{
 "cells": [
  {
   "cell_type": "code",
   "execution_count": 8,
   "metadata": {},
   "outputs": [
    {
     "name": "stdout",
     "output_type": "stream",
     "text": [
      "Dependencies succesfully imported!\n",
      "1 Physical GPUs, 1 Logical GPUs\n"
     ]
    }
   ],
   "source": [
    "import os\n",
    "import tensorflow as tf\n",
    "from tensorflow import keras\n",
    "from keras.layers import (\n",
    "  Dense,\n",
    "  Conv2D,\n",
    "  GlobalMaxPooling2D,\n",
    "  GlobalAveragePooling2D,\n",
    "  MaxPooling2D,\n",
    "  BatchNormalization,\n",
    "  Dropout,\n",
    "  Flatten,\n",
    ")\n",
    "from keras.models import Sequential\n",
    "from keras.preprocessing.image import ImageDataGenerator\n",
    "import matplotlib.pyplot as plt\n",
    "%matplotlib inline\n",
    "\n",
    "print('Dependencies succesfully imported!')\n",
    "\n",
    "\"\"\"Checking gpu device\"\"\"\n",
    "gpus = tf.config.experimental.list_physical_devices('GPU')\n",
    "if gpus:\n",
    "  try:\n",
    "    # Currently, memory growth needs to be the same across GPUs\n",
    "    for gpu in gpus:\n",
    "      tf.config.experimental.set_memory_growth(gpu, True)\n",
    "    logical_gpus = tf.config.experimental.list_logical_devices('GPU')\n",
    "    print(len(gpus), \"Physical GPUs,\", len(logical_gpus), \"Logical GPUs\")\n",
    "  except RuntimeError as e:\n",
    "    # Memory growth must be set before GPUs have been initialized\n",
    "    print(e)\n"
   ]
  },
  {
   "cell_type": "code",
   "execution_count": 2,
   "metadata": {},
   "outputs": [
    {
     "name": "stdout",
     "output_type": "stream",
     "text": [
      "Found 4173 images belonging to 2 classes.\n",
      "Found 1043 images belonging to 2 classes.\n",
      "Found 624 images belonging to 2 classes.\n"
     ]
    }
   ],
   "source": [
    "# getting filepath for each split\n",
    "train_path = r\"dataset/train\"\n",
    "val_path = r\"dataset/val\"\n",
    "test_path = r\"dataset/test\"\n",
    "\n",
    "seed = 42\n",
    "shuffle = True\n",
    "\n",
    "# create image generator to augment images\n",
    "datagen_train = ImageDataGenerator(\n",
    "    featurewise_center = False,\n",
    "    samplewise_center = False,\n",
    "    rotation_range = 0.5,\n",
    "    width_shift_range = 0.2,\n",
    "    height_shift_range = 0.2,\n",
    "    channel_shift_range = 1.0,\n",
    "    horizontal_flip = True,\n",
    "    vertical_flip = False,\n",
    "    rescale = 1/255.,\n",
    "    validation_split = 0.2\n",
    ")\n",
    "\n",
    "datagen_test = ImageDataGenerator(\n",
    "    rescale = 1/255.,\n",
    ")\n",
    "\n",
    "def augment_data_train(path, subset, augmenter, target_size = (150,150), class_mode = 'categorical'):\n",
    "    return augmenter.flow_from_directory(\n",
    "        directory = path,\n",
    "        batch_size = 16,\n",
    "        target_size = target_size,\n",
    "        class_mode = class_mode,\n",
    "        seed = seed,\n",
    "        shuffle = shuffle,\n",
    "        subset = subset\n",
    "    )\n",
    "\n",
    "def augment_data_test(path, augmenter, target_size = (150,150), class_mode = 'categorical'):\n",
    "    return augmenter.flow_from_directory(\n",
    "        directory = path,\n",
    "        batch_size = 8,\n",
    "        target_size = target_size,\n",
    "        class_mode = class_mode,\n",
    "        seed = seed,\n",
    "        shuffle = shuffle,\n",
    "    )\n",
    "\n",
    "# import files using image_dataset_from_directory\n",
    "train = augment_data_train(train_path, 'training', augmenter = datagen_train)\n",
    "val = augment_data_train(train_path, 'validation', augmenter = datagen_train)\n",
    "test = augment_data_test(test_path, datagen_test)"
   ]
  },
  {
   "cell_type": "code",
   "execution_count": 3,
   "metadata": {},
   "outputs": [
    {
     "data": {
      "text/plain": [
       "(150, 150, 3)"
      ]
     },
     "execution_count": 3,
     "metadata": {},
     "output_type": "execute_result"
    }
   ],
   "source": [
    "train.image_shape"
   ]
  },
  {
   "cell_type": "code",
   "execution_count": 3,
   "metadata": {},
   "outputs": [],
   "source": [
    "# \"\"\"Creating CNNBlock\"\"\"\n",
    "# class CNNBlock(layers.Layer):\n",
    "#     def __init__(self, out_channels, kernel_size):\n",
    "#         super(CNNBlock, self).__init__()\n",
    "#         self.conv = layers.Conv2D(out_channels, kernel_size, padding = 'same', input_shape = (None, None, None, None))\n",
    "#         self.batch_norm = layers.BatchNormalization()\n",
    "\n",
    "#     \"\"\"Create function to run forward pass\"\"\"\n",
    "#     \"\"\"CNN -> BatchNormalization -> ReLu\"\"\"\n",
    "#     def call(self, input, training = False):\n",
    "#         x = self.conv(input)\n",
    "#         print(x.shape)\n",
    "#         x = self.batch_norm(x, training = training)\n",
    "#         x = tf.nn.relu(x)\n",
    "#         return x"
   ]
  },
  {
   "cell_type": "code",
   "execution_count": 5,
   "metadata": {},
   "outputs": [
    {
     "name": "stdout",
     "output_type": "stream",
     "text": [
      "Model: \"sequential\"\n",
      "_________________________________________________________________\n",
      " Layer (type)                Output Shape              Param #   \n",
      "=================================================================\n",
      " conv2d (Conv2D)             (None, 150, 150, 64)      1792      \n",
      "                                                                 \n",
      " batch_normalization (BatchN  (None, 150, 150, 64)     256       \n",
      " ormalization)                                                   \n",
      "                                                                 \n",
      " conv2d_1 (Conv2D)           (None, 150, 150, 64)      36928     \n",
      "                                                                 \n",
      " max_pooling2d (MaxPooling2D  (None, 75, 75, 64)       0         \n",
      " )                                                               \n",
      "                                                                 \n",
      " conv2d_2 (Conv2D)           (None, 75, 75, 128)       73856     \n",
      "                                                                 \n",
      " batch_normalization_1 (Batc  (None, 75, 75, 128)      512       \n",
      " hNormalization)                                                 \n",
      "                                                                 \n",
      " conv2d_3 (Conv2D)           (None, 75, 75, 128)       147584    \n",
      "                                                                 \n",
      " max_pooling2d_1 (MaxPooling  (None, 38, 38, 128)      0         \n",
      " 2D)                                                             \n",
      "                                                                 \n",
      " conv2d_4 (Conv2D)           (None, 38, 38, 256)       295168    \n",
      "                                                                 \n",
      " batch_normalization_2 (Batc  (None, 38, 38, 256)      1024      \n",
      " hNormalization)                                                 \n",
      "                                                                 \n",
      " conv2d_5 (Conv2D)           (None, 38, 38, 256)       590080    \n",
      "                                                                 \n",
      " max_pooling2d_2 (MaxPooling  (None, 19, 19, 256)      0         \n",
      " 2D)                                                             \n",
      "                                                                 \n",
      " conv2d_6 (Conv2D)           (None, 19, 19, 512)       1180160   \n",
      "                                                                 \n",
      " batch_normalization_3 (Batc  (None, 19, 19, 512)      2048      \n",
      " hNormalization)                                                 \n",
      "                                                                 \n",
      " conv2d_7 (Conv2D)           (None, 19, 19, 512)       2359808   \n",
      "                                                                 \n",
      " max_pooling2d_3 (MaxPooling  (None, 10, 10, 512)      0         \n",
      " 2D)                                                             \n",
      "                                                                 \n",
      " conv2d_8 (Conv2D)           (None, 10, 10, 512)       2359808   \n",
      "                                                                 \n",
      " batch_normalization_4 (Batc  (None, 10, 10, 512)      2048      \n",
      " hNormalization)                                                 \n",
      "                                                                 \n",
      " conv2d_9 (Conv2D)           (None, 10, 10, 512)       2359808   \n",
      "                                                                 \n",
      " max_pooling2d_4 (MaxPooling  (None, 5, 5, 512)        0         \n",
      " 2D)                                                             \n",
      "                                                                 \n",
      " flatten (Flatten)           (None, 12800)             0         \n",
      "                                                                 \n",
      " dense (Dense)               (None, 4096)              52432896  \n",
      "                                                                 \n",
      " dropout (Dropout)           (None, 4096)              0         \n",
      "                                                                 \n",
      " dense_1 (Dense)             (None, 4096)              16781312  \n",
      "                                                                 \n",
      " dropout_1 (Dropout)         (None, 4096)              0         \n",
      "                                                                 \n",
      " dense_2 (Dense)             (None, 2)                 8194      \n",
      "                                                                 \n",
      "=================================================================\n",
      "Total params: 78,633,282\n",
      "Trainable params: 78,630,338\n",
      "Non-trainable params: 2,944\n",
      "_________________________________________________________________\n"
     ]
    }
   ],
   "source": [
    "model = Sequential()\n",
    "model.add(Conv2D(64, (3,3), activation='swish', padding='same', input_shape=train.image_shape))\n",
    "model.add(BatchNormalization(momentum=0.9, epsilon=1e-3))\n",
    "model.add(Conv2D(64, (3,3), activation='swish', padding='same'))\n",
    "# model.add(GlobalMaxPooling2D())\n",
    "model.add(MaxPooling2D(padding='same'))\n",
    "\n",
    "model.add(Conv2D(128, (3,3), activation='swish', padding='same', input_shape=train.image_shape))\n",
    "model.add(BatchNormalization(momentum=0.9, epsilon=1e-3))\n",
    "model.add(Conv2D(128, (3,3), activation='swish', padding='same'))\n",
    "# model.add(GlobalMaxPooling2D())\n",
    "model.add(MaxPooling2D(padding='same'))\n",
    "\n",
    "model.add(Conv2D(256, (3,3), activation='swish', padding='same', input_shape=train.image_shape))\n",
    "model.add(BatchNormalization(momentum=0.9, epsilon=1e-3))\n",
    "model.add(Conv2D(256, (3,3), activation='swish', padding='same'))\n",
    "# model.add(GlobalMaxPooling2D())\n",
    "model.add(MaxPooling2D(padding='same'))\n",
    "\n",
    "model.add(Conv2D(512, (3,3), activation='swish', padding='same', input_shape=train.image_shape))\n",
    "model.add(BatchNormalization(momentum=0.9, epsilon=1e-3))\n",
    "model.add(Conv2D(512, (3,3), activation='swish', padding='same'))\n",
    "# model.add(GlobalMaxPooling2D())\n",
    "model.add(MaxPooling2D(padding='same'))\n",
    "\n",
    "model.add(Conv2D(512, (3,3), activation='swish', padding='same', input_shape=train.image_shape))\n",
    "model.add(BatchNormalization(momentum=0.9, epsilon=1e-3))\n",
    "model.add(Conv2D(512, (3,3), activation='swish', padding='same'))\n",
    "# model.add(GlobalMaxPooling2D())\n",
    "model.add(MaxPooling2D(padding='same'))\n",
    "model.add(Flatten())\n",
    "\n",
    "model.add(Dense(4096, activation='swish'))\n",
    "model.add(Dropout(0.5))\n",
    "model.add(Dense(4096, activation='swish'))\n",
    "model.add(Dropout(0.5))\n",
    "model.add(Dense(2, activation='softmax'))\n",
    "\n",
    "model.summary()"
   ]
  },
  {
   "cell_type": "code",
   "execution_count": 6,
   "metadata": {},
   "outputs": [],
   "source": [
    "from keras.optimizers import SGD\n",
    "\n",
    "model.compile(\n",
    "    optimizer = keras.optimizers.Adam(learning_rate = 1e-3),\n",
    "    # optimizer = SGD(),\n",
    "    # loss = keras.losses.CategoricalCrossentropy(),\n",
    "    loss = 'categorical_crossentropy',\n",
    "    metrics = ['accuracy']\n",
    ")"
   ]
  },
  {
   "cell_type": "code",
   "execution_count": 7,
   "metadata": {},
   "outputs": [
    {
     "name": "stdout",
     "output_type": "stream",
     "text": [
      "Epoch 1/20\n",
      "261/261 [==============================] - 181s 652ms/step - loss: 3.2798 - accuracy: 0.7829 - val_loss: 0.3794 - val_accuracy: 0.8495\n",
      "Epoch 2/20\n",
      "261/261 [==============================] - 128s 488ms/step - loss: 0.4943 - accuracy: 0.8613 - val_loss: 0.3389 - val_accuracy: 0.8533\n",
      "Epoch 3/20\n",
      "261/261 [==============================] - 127s 486ms/step - loss: 0.3334 - accuracy: 0.8924 - val_loss: 0.2433 - val_accuracy: 0.9032\n",
      "Epoch 4/20\n",
      "261/261 [==============================] - 129s 493ms/step - loss: 0.3321 - accuracy: 0.8917 - val_loss: 0.3934 - val_accuracy: 0.8591\n",
      "Epoch 5/20\n",
      "261/261 [==============================] - 132s 507ms/step - loss: 0.2341 - accuracy: 0.9166 - val_loss: 0.4900 - val_accuracy: 0.7488\n",
      "Epoch 6/20\n",
      "261/261 [==============================] - 131s 500ms/step - loss: 0.2645 - accuracy: 0.9092 - val_loss: 0.1828 - val_accuracy: 0.9156\n",
      "Epoch 7/20\n",
      "261/261 [==============================] - 131s 500ms/step - loss: 4.4027 - accuracy: 0.8296 - val_loss: 0.6748 - val_accuracy: 0.7440\n",
      "Epoch 8/20\n",
      "261/261 [==============================] - 131s 503ms/step - loss: 0.5007 - accuracy: 0.7870 - val_loss: 0.5118 - val_accuracy: 0.8198\n",
      "Epoch 9/20\n",
      "261/261 [==============================] - 137s 524ms/step - loss: 0.3930 - accuracy: 0.8392 - val_loss: 6.7021 - val_accuracy: 0.8437\n",
      "Epoch 10/20\n",
      "261/261 [==============================] - 133s 508ms/step - loss: 0.3431 - accuracy: 0.8651 - val_loss: 0.3333 - val_accuracy: 0.8677\n",
      "Epoch 11/20\n",
      "261/261 [==============================] - 131s 501ms/step - loss: 0.3105 - accuracy: 0.8682 - val_loss: 0.3121 - val_accuracy: 0.8725\n",
      "Epoch 12/20\n",
      "261/261 [==============================] - 132s 506ms/step - loss: 0.2839 - accuracy: 0.8835 - val_loss: 0.3443 - val_accuracy: 0.8591\n",
      "Epoch 13/20\n",
      "261/261 [==============================] - 129s 495ms/step - loss: 0.3025 - accuracy: 0.8761 - val_loss: 0.3180 - val_accuracy: 0.8648\n",
      "Epoch 14/20\n",
      "261/261 [==============================] - 130s 499ms/step - loss: 0.2659 - accuracy: 0.8946 - val_loss: 0.3520 - val_accuracy: 0.8696\n",
      "Epoch 15/20\n",
      "261/261 [==============================] - 130s 497ms/step - loss: 0.2685 - accuracy: 0.8958 - val_loss: 0.3373 - val_accuracy: 0.8677\n",
      "Epoch 16/20\n",
      "261/261 [==============================] - 131s 500ms/step - loss: 0.2615 - accuracy: 0.9022 - val_loss: 0.2573 - val_accuracy: 0.8888\n",
      "Epoch 17/20\n",
      "261/261 [==============================] - 130s 498ms/step - loss: 0.2555 - accuracy: 0.9003 - val_loss: 0.6499 - val_accuracy: 0.8677\n",
      "Epoch 18/20\n",
      "261/261 [==============================] - 129s 492ms/step - loss: 0.2628 - accuracy: 0.9015 - val_loss: 0.3165 - val_accuracy: 0.8648\n",
      "Epoch 19/20\n",
      "261/261 [==============================] - 130s 496ms/step - loss: 0.2406 - accuracy: 0.9025 - val_loss: 0.3201 - val_accuracy: 0.8859\n",
      "Epoch 20/20\n",
      "261/261 [==============================] - 129s 492ms/step - loss: 0.2649 - accuracy: 0.9015 - val_loss: 0.2217 - val_accuracy: 0.9012\n"
     ]
    }
   ],
   "source": [
    "history = model.fit(\n",
    "    train,\n",
    "    # batch_size = 32,\n",
    "    # steps_per_epoch = 100,\n",
    "    # validation_steps = 10,\n",
    "    epochs = 20,\n",
    "    validation_data = val\n",
    ")"
   ]
  },
  {
   "cell_type": "code",
   "execution_count": 9,
   "metadata": {},
   "outputs": [
    {
     "data": {
      "text/plain": [
       "<matplotlib.legend.Legend at 0x172d3446fa0>"
      ]
     },
     "execution_count": 9,
     "metadata": {},
     "output_type": "execute_result"
    },
    {
     "data": {
      "image/png": "[encoded data removed]",
      "text/plain": [
       "<Figure size 1000x500 with 1 Axes>"
      ]
     },
     "metadata": {},
     "output_type": "display_data"
    },
    {
     "data": {
      "image/png": "[encoded data removed]",
      "text/plain": [
       "<Figure size 1000x500 with 1 Axes>"
      ]
     },
     "metadata": {},
     "output_type": "display_data"
    }
   ],
   "source": [
    "# plotting training history\n",
    "fig, ax = plt.subplots(figsize=(10,5))\n",
    "ax.plot(history.history[\"loss\"],'r', marker='.', label=\"Train Loss\")\n",
    "ax.plot(history.history[\"val_loss\"],'b', marker='.', label = \"Validation Loss\")\n",
    "ax.legend()\n",
    "\n",
    "fig, ax = plt.subplots(figsize=(10,5))\n",
    "ax.plot(history.history[\"accuracy\"],'r', marker='.', label=\"Train Accuracy\")\n",
    "ax.plot(history.history[\"val_accuracy\"],'b', marker='.', label = \"Validation Accuracy\")\n",
    "ax.legend()"
   ]
  },
  {
   "cell_type": "code",
   "execution_count": 12,
   "metadata": {},
   "outputs": [
    {
     "name": "stdout",
     "output_type": "stream",
     "text": [
      "78/78 [==============================] - 14s 168ms/step - loss: 0.6266 - accuracy: 0.7564\n",
      "261/261 [==============================] - 166s 634ms/step - loss: 0.1872 - accuracy: 0.9238\n",
      "66/66 [==============================] - 29s 439ms/step - loss: 0.2553 - accuracy: 0.9022\n"
     ]
    }
   ],
   "source": [
    "test_loss, test_score = model.evaluate(test)\n",
    "train_loss, train_score = model.evaluate(train)\n",
    "val_loss, val_score = model.evaluate(val)"
   ]
  },
  {
   "cell_type": "code",
   "execution_count": 18,
   "metadata": {},
   "outputs": [
    {
     "name": "stdout",
     "output_type": "stream",
     "text": [
      "===================================\n",
      "train loss: 0.18723173439502716\n",
      "train score: 0.9237958192825317\n",
      "-----------------------------------\n",
      "val loss: 0.2552691698074341\n",
      "val score: 0.9022051692008972\n",
      "-----------------------------------\n",
      "test loss: 0.626550018787384\n",
      "test score: 0.7564102411270142\n",
      "===================================\n"
     ]
    }
   ],
   "source": [
    "print(f'='*35)\n",
    "\n",
    "print(f'train loss: {train_loss}\\ntrain score: {train_score}')\n",
    "print(f'-'*35)\n",
    "print(f'val loss: {val_loss}\\nval score: {val_score}')\n",
    "print(f'-'*35)\n",
    "print(f'test loss: {test_loss}\\ntest score: {test_score}')\n",
    "print(f'='*35)"
   ]
  },
  {
   "cell_type": "code",
   "execution_count": 29,
   "metadata": {},
   "outputs": [
    {
     "name": "stdout",
     "output_type": "stream",
     "text": [
      "None\n"
     ]
    }
   ],
   "source": [
    "print(tf.debugging.set_log_device_placement(True))"
   ]
  },
  {
   "cell_type": "code",
   "execution_count": 30,
   "metadata": {},
   "outputs": [
    {
     "name": "stdout",
     "output_type": "stream",
     "text": [
      "[name: \"/device:CPU:0\"\n",
      "device_type: \"CPU\"\n",
      "memory_limit: 268435456\n",
      "locality {\n",
      "}\n",
      "incarnation: 1418410185658158891\n",
      "xla_global_id: -1\n",
      ", name: \"/device:GPU:0\"\n",
      "device_type: \"GPU\"\n",
      "memory_limit: 2909221684\n",
      "locality {\n",
      "  bus_id: 1\n",
      "  links {\n",
      "  }\n",
      "}\n",
      "incarnation: 9710639438715200636\n",
      "physical_device_desc: \"device: 0, name: NVIDIA GeForce GTX 1050 Ti, pci bus id: 0000:01:00.0, compute capability: 6.1\"\n",
      "xla_global_id: 416903419\n",
      "]\n"
     ]
    }
   ],
   "source": [
    "\n",
    "from tensorflow.python.client import device_lib\n",
    "print(device_lib.list_local_devices())"
   ]
  },
  {
   "cell_type": "code",
   "execution_count": 31,
   "metadata": {},
   "outputs": [
    {
     "data": {
      "text/plain": [
       "[PhysicalDevice(name='/physical_device:GPU:0', device_type='GPU')]"
      ]
     },
     "execution_count": 31,
     "metadata": {},
     "output_type": "execute_result"
    }
   ],
   "source": [
    "tf.config.list_physical_devices('GPU')"
   ]
  },
  {
   "cell_type": "code",
   "execution_count": 32,
   "metadata": {},
   "outputs": [
    {
     "data": {
      "text/plain": [
       "'/device:GPU:0'"
      ]
     },
     "execution_count": 32,
     "metadata": {},
     "output_type": "execute_result"
    }
   ],
   "source": [
    "tf.test.gpu_device_name()"
   ]
  },
  {
   "cell_type": "code",
   "execution_count": null,
   "metadata": {},
   "outputs": [],
   "source": []
  }
 ],
 "metadata": {
  "kernelspec": {
   "display_name": "Python 3 (ipykernel)",
   "language": "python",
   "name": "python3"
  },
  "language_info": {
   "codemirror_mode": {
    "name": "ipython",
    "version": 3
   },
   "file_extension": ".py",
   "mimetype": "text/x-python",
   "name": "python",
   "nbconvert_exporter": "python",
   "pygments_lexer": "ipython3",
   "version": "3.9.16"
  }
 },
 "nbformat": 4,
 "nbformat_minor": 2
}
